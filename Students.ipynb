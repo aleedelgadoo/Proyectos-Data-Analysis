{
 "cells": [
  {
   "cell_type": "code",
   "execution_count": 230,
   "id": "9c66a215-8025-425d-abb7-2205d0ed20a8",
   "metadata": {},
   "outputs": [
    {
     "name": "stdout",
     "output_type": "stream",
     "text": [
      "      StudentID  Age  Gender  Ethnicity  ParentalEducation  StudyTimeWeekly  \\\n",
      "0          1001   17       1          0                  2        19.833723   \n",
      "1          1002   18       0          0                  1        15.408756   \n",
      "2          1003   15       0          2                  3         4.210570   \n",
      "3          1004   17       1          0                  3        10.028829   \n",
      "4          1005   17       1          0                  2         4.672495   \n",
      "...         ...  ...     ...        ...                ...              ...   \n",
      "2387       3388   18       1          0                  3        10.680555   \n",
      "2388       3389   17       0          0                  1         7.583217   \n",
      "2389       3390   16       1          0                  2         6.805500   \n",
      "2390       3391   16       1          1                  0        12.416653   \n",
      "2391       3392   16       1          0                  2        17.819907   \n",
      "\n",
      "      Absences  Tutoring  ParentalSupport  Extracurricular  Sports  Music  \\\n",
      "0            7         1                2                0       0      1   \n",
      "1            0         0                1                0       0      0   \n",
      "2           26         0                2                0       0      0   \n",
      "3           14         0                3                1       0      0   \n",
      "4           17         1                3                0       0      0   \n",
      "...        ...       ...              ...              ...     ...    ...   \n",
      "2387         2         0                4                1       0      0   \n",
      "2388         4         1                4                0       1      0   \n",
      "2389        20         0                2                0       0      0   \n",
      "2390        17         0                2                0       1      1   \n",
      "2391        13         0                2                0       0      0   \n",
      "\n",
      "      Volunteering       GPA  GradeClass  \n",
      "0                0  2.929196         2.0  \n",
      "1                0  3.042915         1.0  \n",
      "2                0  0.112602         4.0  \n",
      "3                0  2.054218         3.0  \n",
      "4                0  1.288061         4.0  \n",
      "...            ...       ...         ...  \n",
      "2387             0  3.455509         0.0  \n",
      "2388             0  3.279150         4.0  \n",
      "2389             1  1.142333         2.0  \n",
      "2390             0  1.803297         1.0  \n",
      "2391             1  2.140014         1.0  \n",
      "\n",
      "[2392 rows x 15 columns]\n"
     ]
    }
   ],
   "source": [
    "import pandas as pd\n",
    "\n",
    "# Read the CSV file\n",
    "df = pd.read_csv('Student_performance_data.csv')\n",
    "\n",
    "# Verify the dataframe\n",
    "print(df)"
   ]
  },
  {
   "cell_type": "code",
   "execution_count": 231,
   "id": "da566574-a8d1-407f-8b84-f5ce61def3ce",
   "metadata": {},
   "outputs": [],
   "source": [
    "# Drop duplicates if they exist\n",
    "df = df.drop_duplicates()"
   ]
  },
  {
   "cell_type": "code",
   "execution_count": 232,
   "id": "877ac405-7cf8-4f20-8e09-21cf48d00fc2",
   "metadata": {},
   "outputs": [
    {
     "data": {
      "text/plain": [
       "StudentID            0\n",
       "Age                  0\n",
       "Gender               0\n",
       "Ethnicity            0\n",
       "ParentalEducation    0\n",
       "StudyTimeWeekly      0\n",
       "Absences             0\n",
       "Tutoring             0\n",
       "ParentalSupport      0\n",
       "Extracurricular      0\n",
       "Sports               0\n",
       "Music                0\n",
       "Volunteering         0\n",
       "GPA                  0\n",
       "GradeClass           0\n",
       "dtype: int64"
      ]
     },
     "execution_count": 232,
     "metadata": {},
     "output_type": "execute_result"
    }
   ],
   "source": [
    "# Check if there are columns with null values\n",
    "df.isnull().sum()"
   ]
  },
  {
   "cell_type": "code",
   "execution_count": 233,
   "id": "5e51d00e-5e59-440c-b75d-7c13b4458438",
   "metadata": {},
   "outputs": [
    {
     "data": {
      "text/plain": [
       "StudentID              int64\n",
       "Age                    int64\n",
       "Gender                 int64\n",
       "Ethnicity              int64\n",
       "ParentalEducation      int64\n",
       "StudyTimeWeekly      float64\n",
       "Absences               int64\n",
       "Tutoring               int64\n",
       "ParentalSupport        int64\n",
       "Extracurricular        int64\n",
       "Sports                 int64\n",
       "Music                  int64\n",
       "Volunteering           int64\n",
       "GPA                  float64\n",
       "GradeClass           float64\n",
       "dtype: object"
      ]
     },
     "execution_count": 233,
     "metadata": {},
     "output_type": "execute_result"
    }
   ],
   "source": [
    "# Check the data types\n",
    "df.dtypes"
   ]
  },
  {
   "cell_type": "code",
   "execution_count": 234,
   "id": "55eb197e-0e0d-4256-a741-c278dec77364",
   "metadata": {},
   "outputs": [],
   "source": [
    "# Drop the StudentID column\n",
    "df.drop(['StudentID'], axis=1, inplace=True)"
   ]
  },
  {
   "cell_type": "code",
   "execution_count": 235,
   "id": "39c5b1f2-46b0-4bb4-9727-a4f19424de6c",
   "metadata": {},
   "outputs": [],
   "source": [
    "# Modify the data types\n",
    "\n",
    "df['Gender'] = df['Gender'].astype(str)\n",
    "df['Ethnicity'] = df['Ethnicity'].astype(str)\n",
    "df['ParentalEducation'] = df['ParentalEducation'].astype(str)\n",
    "df['Tutoring'] = df['Tutoring'].astype(str)\n",
    "df['ParentalSupport'] = df['ParentalSupport'].astype(str)\n",
    "df['Extracurricular'] = df['Extracurricular'].astype(str)\n",
    "df['Sports'] = df['Sports'].astype(str)\n",
    "df['Music'] = df['Music'].astype(str)\n",
    "df['Volunteering'] = df['Volunteering'].astype(str)\n",
    "df['GradeClass'] = df['GradeClass'].astype(int)\n",
    "df['GradeClass'] = df['GradeClass'].astype(str)\n",
    "\n",
    "\n",
    "\n",
    "\n"
   ]
  },
  {
   "cell_type": "code",
   "execution_count": 236,
   "id": "aeb77613-ce5a-4ad4-852c-1c9c4d3044dd",
   "metadata": {},
   "outputs": [
    {
     "name": "stdout",
     "output_type": "stream",
     "text": [
      "Empty DataFrame\n",
      "Columns: [Age, Gender, Ethnicity, ParentalEducation, StudyTimeWeekly, Absences, Tutoring, ParentalSupport, Extracurricular, Sports, Music, Volunteering, GPA, GradeClass]\n",
      "Index: []\n"
     ]
    }
   ],
   "source": [
    "# Filter the rows where Age is not between 15 and 18\n",
    "df_invalid = df[~((df['Age'] >= 15) & (df['Age'] <= 18))]\n",
    "\n",
    "print(df_invalid)"
   ]
  },
  {
   "cell_type": "code",
   "execution_count": 237,
   "id": "9f1715da-9f41-459c-a72c-cd2363cc53bf",
   "metadata": {},
   "outputs": [
    {
     "name": "stdout",
     "output_type": "stream",
     "text": [
      "Empty DataFrame\n",
      "Columns: [Age, Gender, Ethnicity, ParentalEducation, StudyTimeWeekly, Absences, Tutoring, ParentalSupport, Extracurricular, Sports, Music, Volunteering, GPA, GradeClass]\n",
      "Index: []\n"
     ]
    }
   ],
   "source": [
    "# Filter the rows where Gender is not 0 or 1\n",
    "df_invalid = df[~df['Gender'].isin(['0', '1'])]\n",
    "print(df_invalid)"
   ]
  },
  {
   "cell_type": "code",
   "execution_count": 238,
   "id": "4bd3b87d-6fb7-457b-a630-12dfd4c52434",
   "metadata": {},
   "outputs": [
    {
     "name": "stdout",
     "output_type": "stream",
     "text": [
      "Empty DataFrame\n",
      "Columns: [Age, Gender, Ethnicity, ParentalEducation, StudyTimeWeekly, Absences, Tutoring, ParentalSupport, Extracurricular, Sports, Music, Volunteering, GPA, GradeClass]\n",
      "Index: []\n"
     ]
    }
   ],
   "source": [
    "# Filter the rows where Ethnicity is not 0, 1, 2 or 3\n",
    "df_invalidos = df[~df['Ethnicity'].isin(['0', '1', '2', '3'])]\n",
    "print(df_invalid)"
   ]
  },
  {
   "cell_type": "code",
   "execution_count": 239,
   "id": "a13bae2a-31fd-4e3a-bec9-19d5d854cd02",
   "metadata": {},
   "outputs": [
    {
     "name": "stdout",
     "output_type": "stream",
     "text": [
      "Empty DataFrame\n",
      "Columns: [Age, Gender, Ethnicity, ParentalEducation, StudyTimeWeekly, Absences, Tutoring, ParentalSupport, Extracurricular, Sports, Music, Volunteering, GPA, GradeClass]\n",
      "Index: []\n"
     ]
    }
   ],
   "source": [
    "# Filter the rows where StudyTimeWeekly is not between 0 and 20\n",
    "df_invalid = df[~((df['StudyTimeWeekly'] >= 0) & (df['StudyTimeWeekly'] <= 20))]\n",
    "print(df_invalid)"
   ]
  },
  {
   "cell_type": "code",
   "execution_count": 240,
   "id": "99ad48e2-f93f-43cc-94c2-abd2236c414a",
   "metadata": {},
   "outputs": [
    {
     "name": "stdout",
     "output_type": "stream",
     "text": [
      "Empty DataFrame\n",
      "Columns: [Age, Gender, Ethnicity, ParentalEducation, StudyTimeWeekly, Absences, Tutoring, ParentalSupport, Extracurricular, Sports, Music, Volunteering, GPA, GradeClass]\n",
      "Index: []\n"
     ]
    }
   ],
   "source": [
    "# Filter the rows where ParentalEducation is not 0, 1, 2, 3 or 4\n",
    "df_invalid = df[~df['ParentalEducation'].isin(['0', '1', '2', '3', '4'])]\n",
    "print(df_invalid)"
   ]
  },
  {
   "cell_type": "code",
   "execution_count": 241,
   "id": "d4cb739c-48c7-487a-b479-badd61cca1d4",
   "metadata": {},
   "outputs": [
    {
     "name": "stdout",
     "output_type": "stream",
     "text": [
      "Empty DataFrame\n",
      "Columns: [Age, Gender, Ethnicity, ParentalEducation, StudyTimeWeekly, Absences, Tutoring, ParentalSupport, Extracurricular, Sports, Music, Volunteering, GPA, GradeClass]\n",
      "Index: []\n"
     ]
    }
   ],
   "source": [
    "# Filter the rows where Absences is not between 0 and 30\n",
    "df_invalid = df[~((df['Absences'] >= 0) & (df['Absences'] <= 30))]\n",
    "print(df_invalid)"
   ]
  },
  {
   "cell_type": "code",
   "execution_count": 242,
   "id": "e4bf353d-84cc-4c9e-a2bf-7fff1ee8cf46",
   "metadata": {},
   "outputs": [
    {
     "name": "stdout",
     "output_type": "stream",
     "text": [
      "Empty DataFrame\n",
      "Columns: [Age, Gender, Ethnicity, ParentalEducation, StudyTimeWeekly, Absences, Tutoring, ParentalSupport, Extracurricular, Sports, Music, Volunteering, GPA, GradeClass]\n",
      "Index: []\n"
     ]
    }
   ],
   "source": [
    "# Filter the rows where Tutoring is not 0 or 1\n",
    "df_invalid = df[~df['Tutoring'].isin(['0', '1'])]\n",
    "print(df_invalid)"
   ]
  },
  {
   "cell_type": "code",
   "execution_count": 243,
   "id": "adc5372b-eb6c-48b8-b841-f113efd9cf5f",
   "metadata": {},
   "outputs": [
    {
     "name": "stdout",
     "output_type": "stream",
     "text": [
      "Empty DataFrame\n",
      "Columns: [Age, Gender, Ethnicity, ParentalEducation, StudyTimeWeekly, Absences, Tutoring, ParentalSupport, Extracurricular, Sports, Music, Volunteering, GPA, GradeClass]\n",
      "Index: []\n"
     ]
    }
   ],
   "source": [
    "# Filter the rows where ParentalSupport is not 0, 1, 2, 3 or 4\n",
    "df_invalid = df[~df['ParentalSupport'].isin(['0', '1', '2', '3', '4'])]\n",
    "print(df_invalid)"
   ]
  },
  {
   "cell_type": "code",
   "execution_count": 244,
   "id": "46a0b514-022c-41e9-a132-cabe6f13d09c",
   "metadata": {},
   "outputs": [
    {
     "name": "stdout",
     "output_type": "stream",
     "text": [
      "Empty DataFrame\n",
      "Columns: [Age, Gender, Ethnicity, ParentalEducation, StudyTimeWeekly, Absences, Tutoring, ParentalSupport, Extracurricular, Sports, Music, Volunteering, GPA, GradeClass]\n",
      "Index: []\n"
     ]
    }
   ],
   "source": [
    "# Filter the rows where Extracurricular is not 0 or 1\n",
    "df_invalid = df[~df['Extracurricular'].isin(['0', '1'])]\n",
    "print(df_invalid)"
   ]
  },
  {
   "cell_type": "code",
   "execution_count": 245,
   "id": "3f225663-f9ad-4e08-b96d-35007121d85e",
   "metadata": {},
   "outputs": [
    {
     "name": "stdout",
     "output_type": "stream",
     "text": [
      "Empty DataFrame\n",
      "Columns: [Age, Gender, Ethnicity, ParentalEducation, StudyTimeWeekly, Absences, Tutoring, ParentalSupport, Extracurricular, Sports, Music, Volunteering, GPA, GradeClass]\n",
      "Index: []\n"
     ]
    }
   ],
   "source": [
    "# Filter the rows where Sports is not 0 or 1\n",
    "df_invalid = df[~df['Sports'].isin(['0', '1'])]\n",
    "print(df_invalid)"
   ]
  },
  {
   "cell_type": "code",
   "execution_count": 246,
   "id": "45b8d354-f251-465e-ae8f-554109cb903c",
   "metadata": {},
   "outputs": [
    {
     "name": "stdout",
     "output_type": "stream",
     "text": [
      "Empty DataFrame\n",
      "Columns: [Age, Gender, Ethnicity, ParentalEducation, StudyTimeWeekly, Absences, Tutoring, ParentalSupport, Extracurricular, Sports, Music, Volunteering, GPA, GradeClass]\n",
      "Index: []\n"
     ]
    }
   ],
   "source": [
    "# Filter the rows where Music is not 0 or 1\n",
    "df_invalid = df[~df['Music'].isin(['0', '1'])]\n",
    "print(df_invalid)"
   ]
  },
  {
   "cell_type": "code",
   "execution_count": 247,
   "id": "be8e3340-2941-4fff-9fbf-c989b3650c8d",
   "metadata": {},
   "outputs": [
    {
     "name": "stdout",
     "output_type": "stream",
     "text": [
      "Empty DataFrame\n",
      "Columns: [Age, Gender, Ethnicity, ParentalEducation, StudyTimeWeekly, Absences, Tutoring, ParentalSupport, Extracurricular, Sports, Music, Volunteering, GPA, GradeClass]\n",
      "Index: []\n"
     ]
    }
   ],
   "source": [
    "# Filter the rows where Volunteering is not 0 or 1\n",
    "df_invalid = df[~df['Volunteering'].isin(['0', '1'])]\n",
    "print(df_invalid)"
   ]
  },
  {
   "cell_type": "code",
   "execution_count": 248,
   "id": "9828a130-f37b-4c4c-b15d-51f67a740609",
   "metadata": {},
   "outputs": [
    {
     "name": "stdout",
     "output_type": "stream",
     "text": [
      "Empty DataFrame\n",
      "Columns: [Age, Gender, Ethnicity, ParentalEducation, StudyTimeWeekly, Absences, Tutoring, ParentalSupport, Extracurricular, Sports, Music, Volunteering, GPA, GradeClass]\n",
      "Index: []\n"
     ]
    }
   ],
   "source": [
    "# Filter the rows where GPA is not between 0 and 4\n",
    "df_invalid = df[~((df['GPA'] >= 0) & (df['GPA'] <= 4))]\n",
    "print(df_invalid)"
   ]
  },
  {
   "cell_type": "code",
   "execution_count": 249,
   "id": "c8444d7d-f19b-4206-bbad-c800b9c61343",
   "metadata": {
    "scrolled": true
   },
   "outputs": [
    {
     "name": "stdout",
     "output_type": "stream",
     "text": [
      "Empty DataFrame\n",
      "Columns: [Age, Gender, Ethnicity, ParentalEducation, StudyTimeWeekly, Absences, Tutoring, ParentalSupport, Extracurricular, Sports, Music, Volunteering, GPA, GradeClass]\n",
      "Index: []\n"
     ]
    }
   ],
   "source": [
    "# Filter the rows where GradeClass is not 0, 1 , 2 or 3\n",
    "df_invalid = df[~df['GradeClass'].isin(['0', '1', '2', '3', '4'])]\n",
    "print(df_invalid)"
   ]
  },
  {
   "cell_type": "code",
   "execution_count": 250,
   "id": "e5dda2d6-5f41-480d-af45-dfa776d24d1b",
   "metadata": {},
   "outputs": [
    {
     "name": "stdout",
     "output_type": "stream",
     "text": [
      "      Age Gender Ethnicity ParentalEducation  StudyTimeWeekly  Absences  \\\n",
      "2176   18      1         0                 2        17.528419         3   \n",
      "2177   18      0         2                 1         4.033104         3   \n",
      "2178   17      1         1                 4         1.564842        14   \n",
      "2179   18      1         1                 2        15.762379        14   \n",
      "2181   15      0         2                 1         3.253044        13   \n",
      "...   ...    ...       ...               ...              ...       ...   \n",
      "2387   18      1         0                 3        10.680555         2   \n",
      "2388   17      0         0                 1         7.583217         4   \n",
      "2389   16      1         0                 2         6.805500        20   \n",
      "2390   16      1         1                 0        12.416653        17   \n",
      "2391   16      1         0                 2        17.819907        13   \n",
      "\n",
      "     Tutoring ParentalSupport Extracurricular Sports Music Volunteering  \\\n",
      "2176        0               3               0      0     1            0   \n",
      "2177        1               3               0      0     0            1   \n",
      "2178        0               1               0      1     0            0   \n",
      "2179        0               2               1      1     0            0   \n",
      "2181        1               1               0      0     0            0   \n",
      "...       ...             ...             ...    ...   ...          ...   \n",
      "2387        0               4               1      0     0            0   \n",
      "2388        1               4               0      1     0            0   \n",
      "2389        0               2               0      0     0            1   \n",
      "2390        0               2               0      1     1            0   \n",
      "2391        0               2               0      0     0            1   \n",
      "\n",
      "           GPA GradeClass  \n",
      "2176  3.137624          3  \n",
      "2177  3.189217          2  \n",
      "2178  1.795369          3  \n",
      "2179  2.435958          4  \n",
      "2181  1.844056          1  \n",
      "...        ...        ...  \n",
      "2387  3.455509          0  \n",
      "2388  3.279150          4  \n",
      "2389  1.142333          2  \n",
      "2390  1.803297          1  \n",
      "2391  2.140014          1  \n",
      "\n",
      "[168 rows x 14 columns]\n"
     ]
    }
   ],
   "source": [
    "# Check the GradeClass conditions based on GPA\n",
    "invalid_conditions = (\n",
    "    ((df['GradeClass'] == '0') & (df['GPA'] < 3.5)) |\n",
    "    ((df['GradeClass'] == '1') & ((df['GPA'] < 3.0) | (df['GPA'] >= 3.5))) |\n",
    "    ((df['GradeClass'] == '2') & ((df['GPA'] < 2.5) | (df['GPA'] >= 3.0))) |\n",
    "    ((df['GradeClass'] == '3') & ((df['GPA'] < 2.0) | (df['GPA'] >= 2.5))) |\n",
    "    ((df['GradeClass'] == '4') & (df['GPA'] >= 2.0))    \n",
    ")\n",
    "\n",
    "# Filter the rows that don't meet the conditions\n",
    "df_invalid = df[invalid_conditions]\n",
    "\n",
    "# Mostrar las filas que no cumplen las condiciones\n",
    "print(df_invalid)"
   ]
  },
  {
   "cell_type": "code",
   "execution_count": 251,
   "id": "626ec945-9376-461b-b28f-256c7a0cc3e3",
   "metadata": {},
   "outputs": [],
   "source": [
    "df_corrected = df_invalid.copy()  \n",
    "\n",
    "# Correct GradeClass\n",
    "df_corrected.loc[df['GPA'] >= 3.5, 'GradeClass'] = '0'  # If GPA >= 3.5, GradeClass = 0\n",
    "df_corrected.loc[(df['GPA'] >= 3.0) & (df['GPA'] < 3.5), 'GradeClass'] = '1'  # If 3.0 <= GPA < 3.5, GradeClass = 1\n",
    "df_corrected.loc[(df['GPA'] >= 2.5) & (df['GPA'] < 3.0), 'GradeClass'] = '2'  # If 2.5 <= GPA < 3.0, GradeClass = 2\n",
    "df_corrected.loc[(df['GPA'] >= 2.0) & (df['GPA'] < 2.5), 'GradeClass'] = '3'  # If 2.0 <= GPA < 2.5, GradeClass = 3\n",
    "df_corrected.loc[df['GPA'] < 2.0, 'GradeClass'] = '4'  # If GPA < 2.0, GradeClass = 4\n"
   ]
  },
  {
   "cell_type": "code",
   "execution_count": 252,
   "id": "ec0a5622-0e40-420f-b41c-59bb00f1a318",
   "metadata": {},
   "outputs": [
    {
     "name": "stdout",
     "output_type": "stream",
     "text": [
      "      Age Gender Ethnicity ParentalEducation  StudyTimeWeekly  Absences  \\\n",
      "2176   18      1         0                 2        17.528419         3   \n",
      "2177   18      0         2                 1         4.033104         3   \n",
      "2178   17      1         1                 4         1.564842        14   \n",
      "2179   18      1         1                 2        15.762379        14   \n",
      "2181   15      0         2                 1         3.253044        13   \n",
      "...   ...    ...       ...               ...              ...       ...   \n",
      "2387   18      1         0                 3        10.680555         2   \n",
      "2388   17      0         0                 1         7.583217         4   \n",
      "2389   16      1         0                 2         6.805500        20   \n",
      "2390   16      1         1                 0        12.416653        17   \n",
      "2391   16      1         0                 2        17.819907        13   \n",
      "\n",
      "     Tutoring ParentalSupport Extracurricular Sports Music Volunteering  \\\n",
      "2176        0               3               0      0     1            0   \n",
      "2177        1               3               0      0     0            1   \n",
      "2178        0               1               0      1     0            0   \n",
      "2179        0               2               1      1     0            0   \n",
      "2181        1               1               0      0     0            0   \n",
      "...       ...             ...             ...    ...   ...          ...   \n",
      "2387        0               4               1      0     0            0   \n",
      "2388        1               4               0      1     0            0   \n",
      "2389        0               2               0      0     0            1   \n",
      "2390        0               2               0      1     1            0   \n",
      "2391        0               2               0      0     0            1   \n",
      "\n",
      "           GPA GradeClass  \n",
      "2176  3.137624          1  \n",
      "2177  3.189217          1  \n",
      "2178  1.795369          4  \n",
      "2179  2.435958          3  \n",
      "2181  1.844056          4  \n",
      "...        ...        ...  \n",
      "2387  3.455509          1  \n",
      "2388  3.279150          1  \n",
      "2389  1.142333          4  \n",
      "2390  1.803297          4  \n",
      "2391  2.140014          3  \n",
      "\n",
      "[168 rows x 14 columns]\n"
     ]
    }
   ],
   "source": [
    "print(df_corrected)"
   ]
  },
  {
   "cell_type": "code",
   "execution_count": 253,
   "id": "3da1cc10-8f63-48d1-aa31-df486952c723",
   "metadata": {},
   "outputs": [
    {
     "name": "stdout",
     "output_type": "stream",
     "text": [
      "      Age Gender Ethnicity ParentalEducation  StudyTimeWeekly  Absences  \\\n",
      "0      17      1         0                 2        19.833723         7   \n",
      "1      18      0         0                 1        15.408756         0   \n",
      "2      15      0         2                 3         4.210570        26   \n",
      "3      17      1         0                 3        10.028829        14   \n",
      "4      17      1         0                 2         4.672495        17   \n",
      "...   ...    ...       ...               ...              ...       ...   \n",
      "2387   18      1         0                 3        10.680555         2   \n",
      "2388   17      0         0                 1         7.583217         4   \n",
      "2389   16      1         0                 2         6.805500        20   \n",
      "2390   16      1         1                 0        12.416653        17   \n",
      "2391   16      1         0                 2        17.819907        13   \n",
      "\n",
      "     Tutoring ParentalSupport Extracurricular Sports Music Volunteering  \\\n",
      "0           1               2               0      0     1            0   \n",
      "1           0               1               0      0     0            0   \n",
      "2           0               2               0      0     0            0   \n",
      "3           0               3               1      0     0            0   \n",
      "4           1               3               0      0     0            0   \n",
      "...       ...             ...             ...    ...   ...          ...   \n",
      "2387        0               4               1      0     0            0   \n",
      "2388        1               4               0      1     0            0   \n",
      "2389        0               2               0      0     0            1   \n",
      "2390        0               2               0      1     1            0   \n",
      "2391        0               2               0      0     0            1   \n",
      "\n",
      "           GPA GradeClass  \n",
      "0     2.929196          2  \n",
      "1     3.042915          1  \n",
      "2     0.112602          4  \n",
      "3     2.054218          3  \n",
      "4     1.288061          4  \n",
      "...        ...        ...  \n",
      "2387  3.455509          1  \n",
      "2388  3.279150          1  \n",
      "2389  1.142333          4  \n",
      "2390  1.803297          4  \n",
      "2391  2.140014          3  \n",
      "\n",
      "[2392 rows x 14 columns]\n"
     ]
    }
   ],
   "source": [
    "# Replace incorrect values with the correct ones\n",
    "df.update(df_corrected, overwrite=True)\n",
    "print(df)"
   ]
  },
  {
   "cell_type": "code",
   "execution_count": 254,
   "id": "4b8af87c-2e8a-43f1-a819-d00821d6231f",
   "metadata": {},
   "outputs": [],
   "source": [
    "df.to_csv('Students_Modified.csv', index=False)"
   ]
  },
  {
   "cell_type": "code",
   "execution_count": null,
   "id": "69104937-c384-4ad3-a3ee-5d11f00eb44e",
   "metadata": {},
   "outputs": [],
   "source": []
  }
 ],
 "metadata": {
  "kernelspec": {
   "display_name": "Python 3 (ipykernel)",
   "language": "python",
   "name": "python3"
  },
  "language_info": {
   "codemirror_mode": {
    "name": "ipython",
    "version": 3
   },
   "file_extension": ".py",
   "mimetype": "text/x-python",
   "name": "python",
   "nbconvert_exporter": "python",
   "pygments_lexer": "ipython3",
   "version": "3.11.7"
  }
 },
 "nbformat": 4,
 "nbformat_minor": 5
}
